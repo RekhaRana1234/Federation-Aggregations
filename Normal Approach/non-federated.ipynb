{
 "cells": [
  {
   "cell_type": "code",
   "execution_count": null,
   "metadata": {},
   "outputs": [],
   "source": [
    "# Packages to be imported\n",
    "\n",
    "import random\n",
    "import math\n",
    "import csv\n",
    "import os\n",
    "import time\n",
    "import pandas as pd\n",
    "import numpy as np\n",
    "import matplotlib.pyplot as plt\n",
    "import tensorflow as tf\n",
    "from tensorflow.keras.models import Sequential, model_from_json\n",
    "from tensorflow.keras.layers import Dense\n",
    "from ipynb.fs.full.Functions import *\n"
   ]
  },
  {
   "cell_type": "code",
   "execution_count": null,
   "metadata": {},
   "outputs": [],
   "source": [
    "# Parameter Initialization\n",
    "time_step =[]\n",
    "Mbits_transmitted = []"
   ]
  },
  {
   "cell_type": "code",
   "execution_count": null,
   "metadata": {},
   "outputs": [],
   "source": [
    "# Data for training.\n",
    "with open('./Traffic_Train_Data.csv') as csvfile:\n",
    "    reader = csv.reader(csvfile, delimiter = ',')\n",
    "    next(reader)\n",
    "    for row in reader:\n",
    "        Mbits_transmitted.append(float(row[1]))\n",
    "        time_step.append(int(row[0]))\n",
    "\n",
    "#converting the lists into arrays\n",
    "series_trans = np.array(Mbits_transmitted)\n",
    "time = np.array(time_step)"
   ]
  },
  {
   "cell_type": "code",
   "execution_count": null,
   "metadata": {},
   "outputs": [],
   "source": [
    "modl = SimpleMLP()\n",
    "model = modl.build()\n",
    "model.compile(loss=\"mse\", optimizer=tf.keras.optimizers.SGD(learning_rate=3e-4, momentum=0.9), metrics=[\"mae\"])\n",
    "datasets = windowed_dataset(series_trans, window_size, batch_size, len(series_trans))\n",
    "history = model.fit(datasets, epochs = 50, verbose=0)\n",
    "\n",
    "# The average MSE on 9 datasets\n",
    "print(get_average_mse(series_trans_test, model, window_size, 9))"
   ]
  }
 ],
 "metadata": {
  "language_info": {
   "name": "python"
  },
  "orig_nbformat": 4
 },
 "nbformat": 4,
 "nbformat_minor": 2
}
