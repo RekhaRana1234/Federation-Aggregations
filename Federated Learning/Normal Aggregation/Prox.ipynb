{
 "cells": [
  {
   "cell_type": "code",
   "execution_count": null,
   "metadata": {},
   "outputs": [],
   "source": [
    "# Packages to be imported\n",
    "from ipynb.fs.full.Functions import *"
   ]
  },
  {
   "cell_type": "code",
   "execution_count": null,
   "metadata": {},
   "outputs": [],
   "source": [
    "# Parameter Initialization\n",
    "time_step =[]\n",
    "Mbits_transmitted = []\n",
    "\n",
    "# Data for training.\n",
    "with open('./Traffic_Train_Data.csv') as csvfile:\n",
    "    reader = csv.reader(csvfile, delimiter = ',')\n",
    "    next(reader)\n",
    "    for row in reader:\n",
    "        Mbits_transmitted.append(float(row[1]))\n",
    "        time_step.append(int(row[0]))\n",
    "\n",
    "#converting the lists into arrays\n",
    "series_trans = np.array(Mbits_transmitted)\n",
    "time = np.array(time_step)\n",
    "\n",
    "Clients = create_clients(series_trans,35, 'clients')\n"
   ]
  },
  {
   "cell_type": "code",
   "execution_count": null,
   "metadata": {},
   "outputs": [],
   "source": [
    "#initialize global model\n",
    "smlp_global = SimpleMLP()\n",
    "global_model = smlp_global.build()\n",
    "       \n",
    "#commence global training loop\n",
    "for comm_round in range(comms_round):\n",
    "    optimizer1 = tf.keras.optimizers.SGD(learning_rate=3e-4)        \n",
    "    # get the global model's weights - will serve as the initial weights for all local models\n",
    "    global_weights = global_model.get_weights()\n",
    "   \n",
    "    #initial list to collect local model weights after scalling\n",
    "    scaled_local_weight_list = list()\n",
    "\n",
    "    #randomize client data - using keys\n",
    "    client_names= list(Clients)\n",
    "    random.shuffle(client_names)\n",
    "   \n",
    "    #loop through each client and create new local model\n",
    "    for client in client_names:\n",
    "        window_size = 20\n",
    "        batch_size = 16\n",
    "        dataset = windowed_dataset(np.array(Clients[client]), window_size, batch_size, len(Clients[client]))        \n",
    "        smlp_local = SimpleMLP()\n",
    "        local_model = smlp_local.build()\n",
    "        local_model.set_weights(global_weights)\n",
    "        #compiling the model with a mean squared error loss and a stochastic gradient descent optimizer\n",
    "        optimizer = tf.keras.optimizers.SGD(learning_rate=3e-4)\n",
    "        loss_fn = tf.keras.losses.MeanSquaredError()\n",
    "        local_model = FedProx(local_model, global_model, 3, optimizer, dataset, loss_fn)\n",
    "        #scale the model weights and add to list\n",
    "        scaling_factor = weight_scalling_factor(Clients, client)\n",
    "        scaled_weights = scale_model_weights(local_model.get_weights(), scaling_factor)\n",
    "        scaled_local_weight_list.append(scaled_weights)\n",
    "        \n",
    "        #clear session to free memory after each communication round\n",
    "        K.clear_session()\n",
    "        \n",
    "    #to get the average over all the local model, we simply take the sum of the scaled weights\n",
    "    average_weights = sum_scaled_weights(scaled_local_weight_list)\n",
    "    \n",
    "    #update global model \n",
    "    global_model.set_weights(average_weights)\n",
    "    "
   ]
  },
  {
   "cell_type": "code",
   "execution_count": null,
   "metadata": {},
   "outputs": [],
   "source": [
    "# For testing the performance of the model.\n",
    "with open('./Traffic_Test_Data.csv') as csvfile:\n",
    "    reader = csv.reader(csvfile, delimiter = ',')\n",
    "    next(reader)\n",
    "    for row in reader:\n",
    "        Mbits_transmitted.append(float(row[1]))\n",
    "        time_step.append(int(row[0]))\n",
    "\n",
    "#converting the lists into arrays\n",
    "series_trans_test = np.array(Mbits_transmitted)\n",
    "\n",
    "# The average MSE on 9 datasets\n",
    "print(get_average_mse(series_trans_test, global_model, window_size, 10))"
   ]
  }
 ],
 "metadata": {
  "language_info": {
   "name": "python"
  },
  "orig_nbformat": 4
 },
 "nbformat": 4,
 "nbformat_minor": 2
}
