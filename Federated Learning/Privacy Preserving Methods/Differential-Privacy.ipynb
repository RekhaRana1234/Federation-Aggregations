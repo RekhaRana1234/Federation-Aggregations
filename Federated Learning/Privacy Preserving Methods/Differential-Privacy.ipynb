{
 "cells": [
  {
   "cell_type": "code",
   "execution_count": null,
   "metadata": {},
   "outputs": [],
   "source": [
    "# Packages to be imported\n",
    "\n",
    "from ipynb.fs.full.Functions import *"
   ]
  },
  {
   "cell_type": "code",
   "execution_count": null,
   "metadata": {},
   "outputs": [],
   "source": [
    "# Parameter Initialization\n",
    "time_step =[]\n",
    "Mbits_transmitted = []\n",
    "\n",
    "# Data for training.\n",
    "with open('./Traffic_Train_Data.csv') as csvfile:\n",
    "    reader = csv.reader(csvfile, delimiter = ',')\n",
    "    next(reader)\n",
    "    for row in reader:\n",
    "        Mbits_transmitted.append(float(row[1]))\n",
    "        time_step.append(int(row[0]))\n",
    "\n",
    "#converting the lists into arrays\n",
    "series_trans = np.array(Mbits_transmitted)\n",
    "time = np.array(time_step)"
   ]
  },
  {
   "cell_type": "code",
   "execution_count": null,
   "metadata": {},
   "outputs": [],
   "source": [
    "comms_round = 100\n",
    "Clients = create_clients(series_trans,35, 'clients')"
   ]
  },
  {
   "cell_type": "code",
   "execution_count": null,
   "metadata": {},
   "outputs": [],
   "source": [
    "#initialize global model\n",
    "smlp_global = SimpleMLP()\n",
    "global_model = smlp_global.build()\n",
    "        \n",
    "#commence global training loop\n",
    "for comm_round in range(comms_round):\n",
    "            \n",
    "    # get the global model's weights - will serve as the initial weights for all local models\n",
    "    global_weights = global_model.get_weights()\n",
    "    \n",
    "    #initial list to collect local model weights after scalling\n",
    "    scaled_local_weight_list = list()\n",
    "\n",
    "    #randomize client data - using keys\n",
    "    client_names= list(Clients)\n",
    "    random.shuffle(client_names)\n",
    "    \n",
    "    #loop through each client and create new local model\n",
    "    for client in client_names:\n",
    "        dpsgd = True\n",
    "        learning_rate = 3e-4\n",
    "        noise_multiplier= 0.9\n",
    "        l2_norm_clip= 1.0\n",
    "        microbatches= 1  # must evenly divide batch_size\n",
    "        window_size = 20\n",
    "        batch_size= 16\n",
    "        epochs= 1\n",
    "        dataset = windowed_dataset(np.array(Clients[client]), window_size, batch_size, len(Clients[client]))        \n",
    "        smlp_local = SimpleMLP()\n",
    "        local_model = smlp_local.build()\n",
    "        optimizer = DPKerasSGDOptimizer(l2_norm_clip=l2_norm_clip,\n",
    "                                    noise_multiplier=noise_multiplier,\n",
    "                                    num_microbatches=microbatches,\n",
    "                                    learning_rate=learning_rate)\n",
    "        #compiling the model with a mean squared error loss and a stochastic gradient descent optimizer\n",
    "        local_model.compile(loss=\"mse\", optimizer=optimizer, metrics=[\"mae\"])\n",
    "                \n",
    "        #set local model weight to the weight of the global model\n",
    "        local_model.set_weights(global_weights)\n",
    "        \n",
    "        #fit local model with client's data\n",
    "        local_model.fit(dataset, epochs=1, batch_size=batch_size)\n",
    "        \n",
    "        #scale the model weights and add to list\n",
    "        scaling_factor = weight_scalling_factor(Clients, client)\n",
    "        scaled_weights = scale_model_weights(local_model.get_weights(), scaling_factor)\n",
    "        scaled_local_weight_list.append(scaled_weights)\n",
    "        \n",
    "        #clear session to free memory after each communication round\n",
    "        K.clear_session()\n",
    "        \n",
    "    #to get the average over all the local model, we simply take the sum of the scaled weights\n",
    "    average_weights = sum_scaled_weights(scaled_local_weight_list)\n",
    "    \n",
    "    #update global model \n",
    "    global_model.set_weights(average_weights)"
   ]
  },
  {
   "cell_type": "code",
   "execution_count": null,
   "metadata": {},
   "outputs": [],
   "source": [
    "# For testing the performance of the model.\n",
    "with open('./Traffic_Test_Data.csv') as csvfile:\n",
    "    reader = csv.reader(csvfile, delimiter = ',')\n",
    "    next(reader)\n",
    "    for row in reader:\n",
    "        Mbits_transmitted.append(float(row[1]))\n",
    "        time_step.append(int(row[0]))\n",
    "\n",
    "#converting the lists into arrays\n",
    "series_trans_test = np.array(Mbits_transmitted)\n",
    "\n",
    "# The average MSE on 9 datasets\n",
    "print(get_average_mse(series_trans_test, global_model, window_size, 10))"
   ]
  }
 ],
 "metadata": {
  "kernelspec": {
   "display_name": "base",
   "language": "python",
   "name": "python3"
  },
  "language_info": {
   "codemirror_mode": {
    "name": "ipython",
    "version": 3
   },
   "file_extension": ".py",
   "mimetype": "text/x-python",
   "name": "python",
   "nbconvert_exporter": "python",
   "pygments_lexer": "ipython3",
   "version": "3.10.9"
  },
  "orig_nbformat": 4
 },
 "nbformat": 4,
 "nbformat_minor": 2
}
